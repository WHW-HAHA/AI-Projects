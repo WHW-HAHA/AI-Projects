    "<img src=\"assets/charseq.jpeg\" width=\"500\">"
